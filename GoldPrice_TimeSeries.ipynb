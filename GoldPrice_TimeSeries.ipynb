{
  "nbformat": 4,
  "nbformat_minor": 0,
  "metadata": {
    "colab": {
      "provenance": []
    },
    "kernelspec": {
      "name": "python3",
      "display_name": "Python 3"
    },
    "language_info": {
      "name": "python"
    }
  },
  "cells": [
    {
      "cell_type": "code",
      "execution_count": 1,
      "metadata": {
        "colab": {
          "base_uri": "https://localhost:8080/"
        },
        "id": "xQAh2ZpTZYOG",
        "outputId": "d888b059-cc26-4bbf-b13f-37d796f7769c"
      },
      "outputs": [
        {
          "output_type": "stream",
          "name": "stdout",
          "text": [
            "Collecting pmdarima\n",
            "  Downloading pmdarima-2.0.3-cp310-cp310-manylinux_2_17_x86_64.manylinux2014_x86_64.manylinux_2_28_x86_64.whl (1.8 MB)\n",
            "\u001b[2K     \u001b[90m━━━━━━━━━━━━━━━━━━━━━━━━━━━━━━━━━━━━━━━━\u001b[0m \u001b[32m1.8/1.8 MB\u001b[0m \u001b[31m18.6 MB/s\u001b[0m eta \u001b[36m0:00:00\u001b[0m\n",
            "\u001b[?25hRequirement already satisfied: joblib>=0.11 in /usr/local/lib/python3.10/dist-packages (from pmdarima) (1.3.2)\n",
            "Requirement already satisfied: Cython!=0.29.18,!=0.29.31,>=0.29 in /usr/local/lib/python3.10/dist-packages (from pmdarima) (3.0.2)\n",
            "Requirement already satisfied: numpy>=1.21.2 in /usr/local/lib/python3.10/dist-packages (from pmdarima) (1.23.5)\n",
            "Requirement already satisfied: pandas>=0.19 in /usr/local/lib/python3.10/dist-packages (from pmdarima) (1.5.3)\n",
            "Requirement already satisfied: scikit-learn>=0.22 in /usr/local/lib/python3.10/dist-packages (from pmdarima) (1.2.2)\n",
            "Requirement already satisfied: scipy>=1.3.2 in /usr/local/lib/python3.10/dist-packages (from pmdarima) (1.11.2)\n",
            "Requirement already satisfied: statsmodels>=0.13.2 in /usr/local/lib/python3.10/dist-packages (from pmdarima) (0.14.0)\n",
            "Requirement already satisfied: urllib3 in /usr/local/lib/python3.10/dist-packages (from pmdarima) (2.0.4)\n",
            "Requirement already satisfied: setuptools!=50.0.0,>=38.6.0 in /usr/local/lib/python3.10/dist-packages (from pmdarima) (67.7.2)\n",
            "Requirement already satisfied: python-dateutil>=2.8.1 in /usr/local/lib/python3.10/dist-packages (from pandas>=0.19->pmdarima) (2.8.2)\n",
            "Requirement already satisfied: pytz>=2020.1 in /usr/local/lib/python3.10/dist-packages (from pandas>=0.19->pmdarima) (2023.3.post1)\n",
            "Requirement already satisfied: threadpoolctl>=2.0.0 in /usr/local/lib/python3.10/dist-packages (from scikit-learn>=0.22->pmdarima) (3.2.0)\n",
            "Requirement already satisfied: patsy>=0.5.2 in /usr/local/lib/python3.10/dist-packages (from statsmodels>=0.13.2->pmdarima) (0.5.3)\n",
            "Requirement already satisfied: packaging>=21.3 in /usr/local/lib/python3.10/dist-packages (from statsmodels>=0.13.2->pmdarima) (23.1)\n",
            "Requirement already satisfied: six in /usr/local/lib/python3.10/dist-packages (from patsy>=0.5.2->statsmodels>=0.13.2->pmdarima) (1.16.0)\n",
            "Installing collected packages: pmdarima\n",
            "Successfully installed pmdarima-2.0.3\n"
          ]
        }
      ],
      "source": [
        "!pip install pmdarima"
      ]
    },
    {
      "cell_type": "code",
      "source": [
        "import numpy as np\n",
        "import pandas as pd"
      ],
      "metadata": {
        "id": "9d7kjK7rZiXn"
      },
      "execution_count": 2,
      "outputs": []
    },
    {
      "cell_type": "code",
      "source": [
        "data=pd.read_csv(\"/content/gold_price_data.csv\",index_col=\"Date\",parse_dates=True)\n",
        "data=data.dropna()\n",
        "print(\"The shape of the data is= \",data.shape)\n",
        "data.head()"
      ],
      "metadata": {
        "colab": {
          "base_uri": "https://localhost:8080/",
          "height": 255
        },
        "id": "h_K_WYN7Zlrd",
        "outputId": "6418f4a2-677d-48f6-f520-d83da90a3a7a"
      },
      "execution_count": 8,
      "outputs": [
        {
          "output_type": "stream",
          "name": "stdout",
          "text": [
            "The shape of the data is=  (10787, 1)\n"
          ]
        },
        {
          "output_type": "execute_result",
          "data": {
            "text/plain": [
              "            Value\n",
              "Date             \n",
              "1970-01-01   35.2\n",
              "1970-04-01   35.1\n",
              "1970-07-01   35.4\n",
              "1970-10-01   36.2\n",
              "1971-01-01   37.4"
            ],
            "text/html": [
              "\n",
              "  <div id=\"df-5532a8ad-8d7e-4024-835d-2178f120cb08\" class=\"colab-df-container\">\n",
              "    <div>\n",
              "<style scoped>\n",
              "    .dataframe tbody tr th:only-of-type {\n",
              "        vertical-align: middle;\n",
              "    }\n",
              "\n",
              "    .dataframe tbody tr th {\n",
              "        vertical-align: top;\n",
              "    }\n",
              "\n",
              "    .dataframe thead th {\n",
              "        text-align: right;\n",
              "    }\n",
              "</style>\n",
              "<table border=\"1\" class=\"dataframe\">\n",
              "  <thead>\n",
              "    <tr style=\"text-align: right;\">\n",
              "      <th></th>\n",
              "      <th>Value</th>\n",
              "    </tr>\n",
              "    <tr>\n",
              "      <th>Date</th>\n",
              "      <th></th>\n",
              "    </tr>\n",
              "  </thead>\n",
              "  <tbody>\n",
              "    <tr>\n",
              "      <th>1970-01-01</th>\n",
              "      <td>35.2</td>\n",
              "    </tr>\n",
              "    <tr>\n",
              "      <th>1970-04-01</th>\n",
              "      <td>35.1</td>\n",
              "    </tr>\n",
              "    <tr>\n",
              "      <th>1970-07-01</th>\n",
              "      <td>35.4</td>\n",
              "    </tr>\n",
              "    <tr>\n",
              "      <th>1970-10-01</th>\n",
              "      <td>36.2</td>\n",
              "    </tr>\n",
              "    <tr>\n",
              "      <th>1971-01-01</th>\n",
              "      <td>37.4</td>\n",
              "    </tr>\n",
              "  </tbody>\n",
              "</table>\n",
              "</div>\n",
              "    <div class=\"colab-df-buttons\">\n",
              "\n",
              "  <div class=\"colab-df-container\">\n",
              "    <button class=\"colab-df-convert\" onclick=\"convertToInteractive('df-5532a8ad-8d7e-4024-835d-2178f120cb08')\"\n",
              "            title=\"Convert this dataframe to an interactive table.\"\n",
              "            style=\"display:none;\">\n",
              "\n",
              "  <svg xmlns=\"http://www.w3.org/2000/svg\" height=\"24px\" viewBox=\"0 -960 960 960\">\n",
              "    <path d=\"M120-120v-720h720v720H120Zm60-500h600v-160H180v160Zm220 220h160v-160H400v160Zm0 220h160v-160H400v160ZM180-400h160v-160H180v160Zm440 0h160v-160H620v160ZM180-180h160v-160H180v160Zm440 0h160v-160H620v160Z\"/>\n",
              "  </svg>\n",
              "    </button>\n",
              "\n",
              "  <style>\n",
              "    .colab-df-container {\n",
              "      display:flex;\n",
              "      gap: 12px;\n",
              "    }\n",
              "\n",
              "    .colab-df-convert {\n",
              "      background-color: #E8F0FE;\n",
              "      border: none;\n",
              "      border-radius: 50%;\n",
              "      cursor: pointer;\n",
              "      display: none;\n",
              "      fill: #1967D2;\n",
              "      height: 32px;\n",
              "      padding: 0 0 0 0;\n",
              "      width: 32px;\n",
              "    }\n",
              "\n",
              "    .colab-df-convert:hover {\n",
              "      background-color: #E2EBFA;\n",
              "      box-shadow: 0px 1px 2px rgba(60, 64, 67, 0.3), 0px 1px 3px 1px rgba(60, 64, 67, 0.15);\n",
              "      fill: #174EA6;\n",
              "    }\n",
              "\n",
              "    .colab-df-buttons div {\n",
              "      margin-bottom: 4px;\n",
              "    }\n",
              "\n",
              "    [theme=dark] .colab-df-convert {\n",
              "      background-color: #3B4455;\n",
              "      fill: #D2E3FC;\n",
              "    }\n",
              "\n",
              "    [theme=dark] .colab-df-convert:hover {\n",
              "      background-color: #434B5C;\n",
              "      box-shadow: 0px 1px 3px 1px rgba(0, 0, 0, 0.15);\n",
              "      filter: drop-shadow(0px 1px 2px rgba(0, 0, 0, 0.3));\n",
              "      fill: #FFFFFF;\n",
              "    }\n",
              "  </style>\n",
              "\n",
              "    <script>\n",
              "      const buttonEl =\n",
              "        document.querySelector('#df-5532a8ad-8d7e-4024-835d-2178f120cb08 button.colab-df-convert');\n",
              "      buttonEl.style.display =\n",
              "        google.colab.kernel.accessAllowed ? 'block' : 'none';\n",
              "\n",
              "      async function convertToInteractive(key) {\n",
              "        const element = document.querySelector('#df-5532a8ad-8d7e-4024-835d-2178f120cb08');\n",
              "        const dataTable =\n",
              "          await google.colab.kernel.invokeFunction('convertToInteractive',\n",
              "                                                    [key], {});\n",
              "        if (!dataTable) return;\n",
              "\n",
              "        const docLinkHtml = 'Like what you see? Visit the ' +\n",
              "          '<a target=\"_blank\" href=https://colab.research.google.com/notebooks/data_table.ipynb>data table notebook</a>'\n",
              "          + ' to learn more about interactive tables.';\n",
              "        element.innerHTML = '';\n",
              "        dataTable['output_type'] = 'display_data';\n",
              "        await google.colab.output.renderOutput(dataTable, element);\n",
              "        const docLink = document.createElement('div');\n",
              "        docLink.innerHTML = docLinkHtml;\n",
              "        element.appendChild(docLink);\n",
              "      }\n",
              "    </script>\n",
              "  </div>\n",
              "\n",
              "\n",
              "<div id=\"df-a11b9ba0-757a-4974-b6bf-6c693ca071d2\">\n",
              "  <button class=\"colab-df-quickchart\" onclick=\"quickchart('df-a11b9ba0-757a-4974-b6bf-6c693ca071d2')\"\n",
              "            title=\"Suggest charts.\"\n",
              "            style=\"display:none;\">\n",
              "\n",
              "<svg xmlns=\"http://www.w3.org/2000/svg\" height=\"24px\"viewBox=\"0 0 24 24\"\n",
              "     width=\"24px\">\n",
              "    <g>\n",
              "        <path d=\"M19 3H5c-1.1 0-2 .9-2 2v14c0 1.1.9 2 2 2h14c1.1 0 2-.9 2-2V5c0-1.1-.9-2-2-2zM9 17H7v-7h2v7zm4 0h-2V7h2v10zm4 0h-2v-4h2v4z\"/>\n",
              "    </g>\n",
              "</svg>\n",
              "  </button>\n",
              "\n",
              "<style>\n",
              "  .colab-df-quickchart {\n",
              "      --bg-color: #E8F0FE;\n",
              "      --fill-color: #1967D2;\n",
              "      --hover-bg-color: #E2EBFA;\n",
              "      --hover-fill-color: #174EA6;\n",
              "      --disabled-fill-color: #AAA;\n",
              "      --disabled-bg-color: #DDD;\n",
              "  }\n",
              "\n",
              "  [theme=dark] .colab-df-quickchart {\n",
              "      --bg-color: #3B4455;\n",
              "      --fill-color: #D2E3FC;\n",
              "      --hover-bg-color: #434B5C;\n",
              "      --hover-fill-color: #FFFFFF;\n",
              "      --disabled-bg-color: #3B4455;\n",
              "      --disabled-fill-color: #666;\n",
              "  }\n",
              "\n",
              "  .colab-df-quickchart {\n",
              "    background-color: var(--bg-color);\n",
              "    border: none;\n",
              "    border-radius: 50%;\n",
              "    cursor: pointer;\n",
              "    display: none;\n",
              "    fill: var(--fill-color);\n",
              "    height: 32px;\n",
              "    padding: 0;\n",
              "    width: 32px;\n",
              "  }\n",
              "\n",
              "  .colab-df-quickchart:hover {\n",
              "    background-color: var(--hover-bg-color);\n",
              "    box-shadow: 0 1px 2px rgba(60, 64, 67, 0.3), 0 1px 3px 1px rgba(60, 64, 67, 0.15);\n",
              "    fill: var(--button-hover-fill-color);\n",
              "  }\n",
              "\n",
              "  .colab-df-quickchart-complete:disabled,\n",
              "  .colab-df-quickchart-complete:disabled:hover {\n",
              "    background-color: var(--disabled-bg-color);\n",
              "    fill: var(--disabled-fill-color);\n",
              "    box-shadow: none;\n",
              "  }\n",
              "\n",
              "  .colab-df-spinner {\n",
              "    border: 2px solid var(--fill-color);\n",
              "    border-color: transparent;\n",
              "    border-bottom-color: var(--fill-color);\n",
              "    animation:\n",
              "      spin 1s steps(1) infinite;\n",
              "  }\n",
              "\n",
              "  @keyframes spin {\n",
              "    0% {\n",
              "      border-color: transparent;\n",
              "      border-bottom-color: var(--fill-color);\n",
              "      border-left-color: var(--fill-color);\n",
              "    }\n",
              "    20% {\n",
              "      border-color: transparent;\n",
              "      border-left-color: var(--fill-color);\n",
              "      border-top-color: var(--fill-color);\n",
              "    }\n",
              "    30% {\n",
              "      border-color: transparent;\n",
              "      border-left-color: var(--fill-color);\n",
              "      border-top-color: var(--fill-color);\n",
              "      border-right-color: var(--fill-color);\n",
              "    }\n",
              "    40% {\n",
              "      border-color: transparent;\n",
              "      border-right-color: var(--fill-color);\n",
              "      border-top-color: var(--fill-color);\n",
              "    }\n",
              "    60% {\n",
              "      border-color: transparent;\n",
              "      border-right-color: var(--fill-color);\n",
              "    }\n",
              "    80% {\n",
              "      border-color: transparent;\n",
              "      border-right-color: var(--fill-color);\n",
              "      border-bottom-color: var(--fill-color);\n",
              "    }\n",
              "    90% {\n",
              "      border-color: transparent;\n",
              "      border-bottom-color: var(--fill-color);\n",
              "    }\n",
              "  }\n",
              "</style>\n",
              "\n",
              "  <script>\n",
              "    async function quickchart(key) {\n",
              "      const quickchartButtonEl =\n",
              "        document.querySelector('#' + key + ' button');\n",
              "      quickchartButtonEl.disabled = true;  // To prevent multiple clicks.\n",
              "      quickchartButtonEl.classList.add('colab-df-spinner');\n",
              "      try {\n",
              "        const charts = await google.colab.kernel.invokeFunction(\n",
              "            'suggestCharts', [key], {});\n",
              "      } catch (error) {\n",
              "        console.error('Error during call to suggestCharts:', error);\n",
              "      }\n",
              "      quickchartButtonEl.classList.remove('colab-df-spinner');\n",
              "      quickchartButtonEl.classList.add('colab-df-quickchart-complete');\n",
              "    }\n",
              "    (() => {\n",
              "      let quickchartButtonEl =\n",
              "        document.querySelector('#df-a11b9ba0-757a-4974-b6bf-6c693ca071d2 button');\n",
              "      quickchartButtonEl.style.display =\n",
              "        google.colab.kernel.accessAllowed ? 'block' : 'none';\n",
              "    })();\n",
              "  </script>\n",
              "</div>\n",
              "    </div>\n",
              "  </div>\n"
            ]
          },
          "metadata": {},
          "execution_count": 8
        }
      ]
    },
    {
      "cell_type": "code",
      "source": [
        "#plot\n",
        "data[\"Value\"].plot(figsize=(12,5))"
      ],
      "metadata": {
        "colab": {
          "base_uri": "https://localhost:8080/",
          "height": 453
        },
        "id": "8DnYr61eZtIm",
        "outputId": "472f8536-d9f7-439c-cd0c-4a6884aa8f7b"
      },
      "execution_count": 6,
      "outputs": [
        {
          "output_type": "execute_result",
          "data": {
            "text/plain": [
              "<Axes: xlabel='Date'>"
            ]
          },
          "metadata": {},
          "execution_count": 6
        },
        {
          "output_type": "display_data",
          "data": {
            "text/plain": [
              "<Figure size 1200x500 with 1 Axes>"
            ],
            "image/png": "[encoded data removed]"
          },
          "metadata": {}
        }
      ]
    },
    {
      "cell_type": "code",
      "source": [
        "from statsmodels.tsa.stattools import adfuller\n",
        "def ad_test(dataset):\n",
        "  res=adfuller(dataset,autolag='AIC')\n",
        "  print(\"ADF: \",res[0])\n",
        "  print(\"P value: \",res[1])\n",
        "  print(\"No of lags: \",res[2])\n",
        "  print(\"No of observations: \",res[3])\n",
        "  print(\"Critical values: \")\n",
        "  for key,val in res[4].items():\n",
        "    print(\"\\t\",key,\": \",val)"
      ],
      "metadata": {
        "id": "q4p9YQ39Z2K7"
      },
      "execution_count": 16,
      "outputs": []
    },
    {
      "cell_type": "code",
      "source": [
        "ad_test(data[\"Value\"])"
      ],
      "metadata": {
        "colab": {
          "base_uri": "https://localhost:8080/"
        },
        "id": "-VqhVoW9aLuy",
        "outputId": "36a55d4d-cab4-4a7f-879c-cee035e1305d"
      },
      "execution_count": 18,
      "outputs": [
        {
          "output_type": "stream",
          "name": "stdout",
          "text": [
            "ADF:  -0.07112124453813186\n",
            "P value:  0.9522400769147397\n",
            "No of lags:  39\n",
            "No of observations:  10747\n",
            "Critical values: \n",
            "\t 1% :  -3.4309586221840513\n",
            "\t 5% :  -2.861808976860248\n",
            "\t 10% :  -2.566913171245489\n"
          ]
        }
      ]
    },
    {
      "cell_type": "code",
      "source": [
        "from pmdarima import auto_arima\n",
        "import warnings\n",
        "warnings.filterwarnings('ignore')"
      ],
      "metadata": {
        "id": "r5p_XFA9aT2G"
      },
      "execution_count": 20,
      "outputs": []
    },
    {
      "cell_type": "code",
      "source": [
        "stepwise_arima=auto_arima(data[\"Value\"],trace=True,supress_warnings=True)\n",
        "stepwise_arima.summary()"
      ],
      "metadata": {
        "colab": {
          "base_uri": "https://localhost:8080/",
          "height": 795
        },
        "id": "23C0D2Tqb9Bz",
        "outputId": "f945b2e7-5ee7-4560-f24e-aea73ecd217f"
      },
      "execution_count": 23,
      "outputs": [
        {
          "output_type": "stream",
          "name": "stdout",
          "text": [
            "Performing stepwise search to minimize aic\n",
            " ARIMA(2,1,2)(0,0,0)[0] intercept   : AIC=78048.396, Time=35.42 sec\n",
            " ARIMA(0,1,0)(0,0,0)[0] intercept   : AIC=78090.196, Time=0.44 sec\n",
            " ARIMA(1,1,0)(0,0,0)[0] intercept   : AIC=78090.620, Time=1.67 sec\n",
            " ARIMA(0,1,1)(0,0,0)[0] intercept   : AIC=78090.554, Time=2.15 sec\n",
            " ARIMA(0,1,0)(0,0,0)[0]             : AIC=78090.847, Time=0.24 sec\n",
            " ARIMA(1,1,2)(0,0,0)[0] intercept   : AIC=78081.191, Time=14.97 sec\n",
            " ARIMA(2,1,1)(0,0,0)[0] intercept   : AIC=78081.126, Time=14.34 sec\n",
            " ARIMA(3,1,2)(0,0,0)[0] intercept   : AIC=78049.951, Time=37.72 sec\n",
            " ARIMA(2,1,3)(0,0,0)[0] intercept   : AIC=78084.745, Time=20.04 sec\n",
            " ARIMA(1,1,1)(0,0,0)[0] intercept   : AIC=78088.281, Time=11.69 sec\n",
            " ARIMA(1,1,3)(0,0,0)[0] intercept   : AIC=78082.704, Time=20.47 sec\n",
            " ARIMA(3,1,1)(0,0,0)[0] intercept   : AIC=78082.775, Time=15.54 sec\n",
            " ARIMA(3,1,3)(0,0,0)[0] intercept   : AIC=78086.029, Time=46.83 sec\n",
            " ARIMA(2,1,2)(0,0,0)[0]             : AIC=78049.141, Time=8.50 sec\n",
            "\n",
            "Best model:  ARIMA(2,1,2)(0,0,0)[0] intercept\n",
            "Total fit time: 230.098 seconds\n"
          ]
        },
        {
          "output_type": "execute_result",
          "data": {
            "text/plain": [
              "<class 'statsmodels.iolib.summary.Summary'>\n",
              "\"\"\"\n",
              "                               SARIMAX Results                                \n",
              "==============================================================================\n",
              "Dep. Variable:                      y   No. Observations:                10787\n",
              "Model:               SARIMAX(2, 1, 2)   Log Likelihood              -39018.198\n",
              "Date:                Sun, 24 Sep 2023   AIC                          78048.396\n",
              "Time:                        18:30:09   BIC                          78092.112\n",
              "Sample:                             0   HQIC                         78063.138\n",
              "                              - 10787                                         \n",
              "Covariance Type:                  opg                                         \n",
              "==============================================================================\n",
              "                 coef    std err          z      P>|z|      [0.025      0.975]\n",
              "------------------------------------------------------------------------------\n",
              "intercept      0.3741      0.229      1.634      0.102      -0.075       0.823\n",
              "ar.L1         -0.7037      0.011    -65.182      0.000      -0.725      -0.683\n",
              "ar.L2         -0.9374      0.010    -93.070      0.000      -0.957      -0.918\n",
              "ma.L1          0.6845      0.012     55.768      0.000       0.660       0.709\n",
              "ma.L2          0.9173      0.012     79.015      0.000       0.895       0.940\n",
              "sigma2        81.2136      0.328    247.846      0.000      80.571      81.856\n",
              "===================================================================================\n",
              "Ljung-Box (L1) (Q):                   0.82   Jarque-Bera (JB):            210441.39\n",
              "Prob(Q):                              0.36   Prob(JB):                         0.00\n",
              "Heteroskedasticity (H):               3.12   Skew:                            -0.68\n",
              "Prob(H) (two-sided):                  0.00   Kurtosis:                        24.60\n",
              "===================================================================================\n",
              "\n",
              "Warnings:\n",
              "[1] Covariance matrix calculated using the outer product of gradients (complex-step).\n",
              "\"\"\""
            ],
            "text/html": [
              "<table class=\"simpletable\">\n",
              "<caption>SARIMAX Results</caption>\n",
              "<tr>\n",
              "  <th>Dep. Variable:</th>           <td>y</td>        <th>  No. Observations:  </th>    <td>10787</td>  \n",
              "</tr>\n",
              "<tr>\n",
              "  <th>Model:</th>           <td>SARIMAX(2, 1, 2)</td> <th>  Log Likelihood     </th> <td>-39018.198</td>\n",
              "</tr>\n",
              "<tr>\n",
              "  <th>Date:</th>            <td>Sun, 24 Sep 2023</td> <th>  AIC                </th>  <td>78048.396</td>\n",
              "</tr>\n",
              "<tr>\n",
              "  <th>Time:</th>                <td>18:30:09</td>     <th>  BIC                </th>  <td>78092.112</td>\n",
              "</tr>\n",
              "<tr>\n",
              "  <th>Sample:</th>                  <td>0</td>        <th>  HQIC               </th>  <td>78063.138</td>\n",
              "</tr>\n",
              "<tr>\n",
              "  <th></th>                     <td> - 10787</td>     <th>                     </th>      <td> </td>    \n",
              "</tr>\n",
              "<tr>\n",
              "  <th>Covariance Type:</th>        <td>opg</td>       <th>                     </th>      <td> </td>    \n",
              "</tr>\n",
              "</table>\n",
              "<table class=\"simpletable\">\n",
              "<tr>\n",
              "      <td></td>         <th>coef</th>     <th>std err</th>      <th>z</th>      <th>P>|z|</th>  <th>[0.025</th>    <th>0.975]</th>  \n",
              "</tr>\n",
              "<tr>\n",
              "  <th>intercept</th> <td>    0.3741</td> <td>    0.229</td> <td>    1.634</td> <td> 0.102</td> <td>   -0.075</td> <td>    0.823</td>\n",
              "</tr>\n",
              "<tr>\n",
              "  <th>ar.L1</th>     <td>   -0.7037</td> <td>    0.011</td> <td>  -65.182</td> <td> 0.000</td> <td>   -0.725</td> <td>   -0.683</td>\n",
              "</tr>\n",
              "<tr>\n",
              "  <th>ar.L2</th>     <td>   -0.9374</td> <td>    0.010</td> <td>  -93.070</td> <td> 0.000</td> <td>   -0.957</td> <td>   -0.918</td>\n",
              "</tr>\n",
              "<tr>\n",
              "  <th>ma.L1</th>     <td>    0.6845</td> <td>    0.012</td> <td>   55.768</td> <td> 0.000</td> <td>    0.660</td> <td>    0.709</td>\n",
              "</tr>\n",
              "<tr>\n",
              "  <th>ma.L2</th>     <td>    0.9173</td> <td>    0.012</td> <td>   79.015</td> <td> 0.000</td> <td>    0.895</td> <td>    0.940</td>\n",
              "</tr>\n",
              "<tr>\n",
              "  <th>sigma2</th>    <td>   81.2136</td> <td>    0.328</td> <td>  247.846</td> <td> 0.000</td> <td>   80.571</td> <td>   81.856</td>\n",
              "</tr>\n",
              "</table>\n",
              "<table class=\"simpletable\">\n",
              "<tr>\n",
              "  <th>Ljung-Box (L1) (Q):</th>     <td>0.82</td> <th>  Jarque-Bera (JB):  </th> <td>210441.39</td>\n",
              "</tr>\n",
              "<tr>\n",
              "  <th>Prob(Q):</th>                <td>0.36</td> <th>  Prob(JB):          </th>   <td>0.00</td>   \n",
              "</tr>\n",
              "<tr>\n",
              "  <th>Heteroskedasticity (H):</th> <td>3.12</td> <th>  Skew:              </th>   <td>-0.68</td>  \n",
              "</tr>\n",
              "<tr>\n",
              "  <th>Prob(H) (two-sided):</th>    <td>0.00</td> <th>  Kurtosis:          </th>   <td>24.60</td>  \n",
              "</tr>\n",
              "</table><br/><br/>Warnings:<br/>[1] Covariance matrix calculated using the outer product of gradients (complex-step)."
            ],
            "text/latex": "\\begin{center}\n\\begin{tabular}{lclc}\n\\toprule\n\\textbf{Dep. Variable:}          &        y         & \\textbf{  No. Observations:  } &   10787     \\\\\n\\textbf{Model:}                  & SARIMAX(2, 1, 2) & \\textbf{  Log Likelihood     } & -39018.198  \\\\\n\\textbf{Date:}                   & Sun, 24 Sep 2023 & \\textbf{  AIC                } & 78048.396   \\\\\n\\textbf{Time:}                   &     18:30:09     & \\textbf{  BIC                } & 78092.112   \\\\\n\\textbf{Sample:}                 &        0         & \\textbf{  HQIC               } & 78063.138   \\\\\n\\textbf{}                        &      - 10787     & \\textbf{                     } &             \\\\\n\\textbf{Covariance Type:}        &       opg        & \\textbf{                     } &             \\\\\n\\bottomrule\n\\end{tabular}\n\\begin{tabular}{lcccccc}\n                   & \\textbf{coef} & \\textbf{std err} & \\textbf{z} & \\textbf{P$> |$z$|$} & \\textbf{[0.025} & \\textbf{0.975]}  \\\\\n\\midrule\n\\textbf{intercept} &       0.3741  &        0.229     &     1.634  &         0.102        &       -0.075    &        0.823     \\\\\n\\textbf{ar.L1}     &      -0.7037  &        0.011     &   -65.182  &         0.000        &       -0.725    &       -0.683     \\\\\n\\textbf{ar.L2}     &      -0.9374  &        0.010     &   -93.070  &         0.000        &       -0.957    &       -0.918     \\\\\n\\textbf{ma.L1}     &       0.6845  &        0.012     &    55.768  &         0.000        &        0.660    &        0.709     \\\\\n\\textbf{ma.L2}     &       0.9173  &        0.012     &    79.015  &         0.000        &        0.895    &        0.940     \\\\\n\\textbf{sigma2}    &      81.2136  &        0.328     &   247.846  &         0.000        &       80.571    &       81.856     \\\\\n\\bottomrule\n\\end{tabular}\n\\begin{tabular}{lclc}\n\\textbf{Ljung-Box (L1) (Q):}     & 0.82 & \\textbf{  Jarque-Bera (JB):  } & 210441.39  \\\\\n\\textbf{Prob(Q):}                & 0.36 & \\textbf{  Prob(JB):          } &    0.00    \\\\\n\\textbf{Heteroskedasticity (H):} & 3.12 & \\textbf{  Skew:              } &   -0.68    \\\\\n\\textbf{Prob(H) (two-sided):}    & 0.00 & \\textbf{  Kurtosis:          } &   24.60    \\\\\n\\bottomrule\n\\end{tabular}\n%\\caption{SARIMAX Results}\n\\end{center}\n\nWarnings: \\newline\n [1] Covariance matrix calculated using the outer product of gradients (complex-step)."
          },
          "metadata": {},
          "execution_count": 23
        }
      ]
    },
    {
      "cell_type": "code",
      "source": [
        "from statsmodels.tsa.arima.model import ARIMA\n"
      ],
      "metadata": {
        "id": "FQNnwgghcSzL"
      },
      "execution_count": 24,
      "outputs": []
    },
    {
      "cell_type": "code",
      "source": [
        "train=data.iloc[:-50]\n",
        "test=data.iloc[-50:]\n",
        "print(train.shape,test.shape)"
      ],
      "metadata": {
        "colab": {
          "base_uri": "https://localhost:8080/"
        },
        "id": "2fpGrH4Bei-v",
        "outputId": "465cd410-56fe-4a1f-c7da-665cc7ea5dc3"
      },
      "execution_count": 26,
      "outputs": [
        {
          "output_type": "stream",
          "name": "stdout",
          "text": [
            "(10737, 1) (50, 1)\n"
          ]
        }
      ]
    },
    {
      "cell_type": "code",
      "source": [
        "model=ARIMA(data[\"Value\"],order=(2,1,2))\n",
        "model=model.fit()\n",
        "model.summary()"
      ],
      "metadata": {
        "colab": {
          "base_uri": "https://localhost:8080/",
          "height": 462
        },
        "id": "xpdu32CHeqgy",
        "outputId": "e79ff3d9-5cd4-4c9d-c6b8-646457deceb6"
      },
      "execution_count": 27,
      "outputs": [
        {
          "output_type": "execute_result",
          "data": {
            "text/plain": [
              "<class 'statsmodels.iolib.summary.Summary'>\n",
              "\"\"\"\n",
              "                               SARIMAX Results                                \n",
              "==============================================================================\n",
              "Dep. Variable:                  Value   No. Observations:                10787\n",
              "Model:                 ARIMA(2, 1, 2)   Log Likelihood              -39019.571\n",
              "Date:                Sun, 24 Sep 2023   AIC                          78049.141\n",
              "Time:                        18:37:41   BIC                          78085.571\n",
              "Sample:                             0   HQIC                         78061.426\n",
              "                              - 10787                                         \n",
              "Covariance Type:                  opg                                         \n",
              "==============================================================================\n",
              "                 coef    std err          z      P>|z|      [0.025      0.975]\n",
              "------------------------------------------------------------------------------\n",
              "ar.L1         -0.7038      0.011    -65.257      0.000      -0.725      -0.683\n",
              "ar.L2         -0.9375      0.010    -93.264      0.000      -0.957      -0.918\n",
              "ma.L1          0.6847      0.012     55.852      0.000       0.661       0.709\n",
              "ma.L2          0.9174      0.012     79.170      0.000       0.895       0.940\n",
              "sigma2        81.2352      0.325    249.806      0.000      80.598      81.873\n",
              "===================================================================================\n",
              "Ljung-Box (L1) (Q):                   0.81   Jarque-Bera (JB):            210438.75\n",
              "Prob(Q):                              0.37   Prob(JB):                         0.00\n",
              "Heteroskedasticity (H):               3.12   Skew:                            -0.68\n",
              "Prob(H) (two-sided):                  0.00   Kurtosis:                        24.60\n",
              "===================================================================================\n",
              "\n",
              "Warnings:\n",
              "[1] Covariance matrix calculated using the outer product of gradients (complex-step).\n",
              "\"\"\""
            ],
            "text/html": [
              "<table class=\"simpletable\">\n",
              "<caption>SARIMAX Results</caption>\n",
              "<tr>\n",
              "  <th>Dep. Variable:</th>         <td>Value</td>      <th>  No. Observations:  </th>    <td>10787</td>  \n",
              "</tr>\n",
              "<tr>\n",
              "  <th>Model:</th>            <td>ARIMA(2, 1, 2)</td>  <th>  Log Likelihood     </th> <td>-39019.571</td>\n",
              "</tr>\n",
              "<tr>\n",
              "  <th>Date:</th>            <td>Sun, 24 Sep 2023</td> <th>  AIC                </th>  <td>78049.141</td>\n",
              "</tr>\n",
              "<tr>\n",
              "  <th>Time:</th>                <td>18:37:41</td>     <th>  BIC                </th>  <td>78085.571</td>\n",
              "</tr>\n",
              "<tr>\n",
              "  <th>Sample:</th>                  <td>0</td>        <th>  HQIC               </th>  <td>78061.426</td>\n",
              "</tr>\n",
              "<tr>\n",
              "  <th></th>                     <td> - 10787</td>     <th>                     </th>      <td> </td>    \n",
              "</tr>\n",
              "<tr>\n",
              "  <th>Covariance Type:</th>        <td>opg</td>       <th>                     </th>      <td> </td>    \n",
              "</tr>\n",
              "</table>\n",
              "<table class=\"simpletable\">\n",
              "<tr>\n",
              "     <td></td>       <th>coef</th>     <th>std err</th>      <th>z</th>      <th>P>|z|</th>  <th>[0.025</th>    <th>0.975]</th>  \n",
              "</tr>\n",
              "<tr>\n",
              "  <th>ar.L1</th>  <td>   -0.7038</td> <td>    0.011</td> <td>  -65.257</td> <td> 0.000</td> <td>   -0.725</td> <td>   -0.683</td>\n",
              "</tr>\n",
              "<tr>\n",
              "  <th>ar.L2</th>  <td>   -0.9375</td> <td>    0.010</td> <td>  -93.264</td> <td> 0.000</td> <td>   -0.957</td> <td>   -0.918</td>\n",
              "</tr>\n",
              "<tr>\n",
              "  <th>ma.L1</th>  <td>    0.6847</td> <td>    0.012</td> <td>   55.852</td> <td> 0.000</td> <td>    0.661</td> <td>    0.709</td>\n",
              "</tr>\n",
              "<tr>\n",
              "  <th>ma.L2</th>  <td>    0.9174</td> <td>    0.012</td> <td>   79.170</td> <td> 0.000</td> <td>    0.895</td> <td>    0.940</td>\n",
              "</tr>\n",
              "<tr>\n",
              "  <th>sigma2</th> <td>   81.2352</td> <td>    0.325</td> <td>  249.806</td> <td> 0.000</td> <td>   80.598</td> <td>   81.873</td>\n",
              "</tr>\n",
              "</table>\n",
              "<table class=\"simpletable\">\n",
              "<tr>\n",
              "  <th>Ljung-Box (L1) (Q):</th>     <td>0.81</td> <th>  Jarque-Bera (JB):  </th> <td>210438.75</td>\n",
              "</tr>\n",
              "<tr>\n",
              "  <th>Prob(Q):</th>                <td>0.37</td> <th>  Prob(JB):          </th>   <td>0.00</td>   \n",
              "</tr>\n",
              "<tr>\n",
              "  <th>Heteroskedasticity (H):</th> <td>3.12</td> <th>  Skew:              </th>   <td>-0.68</td>  \n",
              "</tr>\n",
              "<tr>\n",
              "  <th>Prob(H) (two-sided):</th>    <td>0.00</td> <th>  Kurtosis:          </th>   <td>24.60</td>  \n",
              "</tr>\n",
              "</table><br/><br/>Warnings:<br/>[1] Covariance matrix calculated using the outer product of gradients (complex-step)."
            ],
            "text/latex": "\\begin{center}\n\\begin{tabular}{lclc}\n\\toprule\n\\textbf{Dep. Variable:}          &      Value       & \\textbf{  No. Observations:  } &   10787     \\\\\n\\textbf{Model:}                  &  ARIMA(2, 1, 2)  & \\textbf{  Log Likelihood     } & -39019.571  \\\\\n\\textbf{Date:}                   & Sun, 24 Sep 2023 & \\textbf{  AIC                } & 78049.141   \\\\\n\\textbf{Time:}                   &     18:37:41     & \\textbf{  BIC                } & 78085.571   \\\\\n\\textbf{Sample:}                 &        0         & \\textbf{  HQIC               } & 78061.426   \\\\\n\\textbf{}                        &      - 10787     & \\textbf{                     } &             \\\\\n\\textbf{Covariance Type:}        &       opg        & \\textbf{                     } &             \\\\\n\\bottomrule\n\\end{tabular}\n\\begin{tabular}{lcccccc}\n                & \\textbf{coef} & \\textbf{std err} & \\textbf{z} & \\textbf{P$> |$z$|$} & \\textbf{[0.025} & \\textbf{0.975]}  \\\\\n\\midrule\n\\textbf{ar.L1}  &      -0.7038  &        0.011     &   -65.257  &         0.000        &       -0.725    &       -0.683     \\\\\n\\textbf{ar.L2}  &      -0.9375  &        0.010     &   -93.264  &         0.000        &       -0.957    &       -0.918     \\\\\n\\textbf{ma.L1}  &       0.6847  &        0.012     &    55.852  &         0.000        &        0.661    &        0.709     \\\\\n\\textbf{ma.L2}  &       0.9174  &        0.012     &    79.170  &         0.000        &        0.895    &        0.940     \\\\\n\\textbf{sigma2} &      81.2352  &        0.325     &   249.806  &         0.000        &       80.598    &       81.873     \\\\\n\\bottomrule\n\\end{tabular}\n\\begin{tabular}{lclc}\n\\textbf{Ljung-Box (L1) (Q):}     & 0.81 & \\textbf{  Jarque-Bera (JB):  } & 210438.75  \\\\\n\\textbf{Prob(Q):}                & 0.37 & \\textbf{  Prob(JB):          } &    0.00    \\\\\n\\textbf{Heteroskedasticity (H):} & 3.12 & \\textbf{  Skew:              } &   -0.68    \\\\\n\\textbf{Prob(H) (two-sided):}    & 0.00 & \\textbf{  Kurtosis:          } &   24.60    \\\\\n\\bottomrule\n\\end{tabular}\n%\\caption{SARIMAX Results}\n\\end{center}\n\nWarnings: \\newline\n [1] Covariance matrix calculated using the outer product of gradients (complex-step)."
          },
          "metadata": {},
          "execution_count": 27
        }
      ]
    },
    {
      "cell_type": "code",
      "source": [
        "#predicting on test data\n",
        "start,end=len(train),len(test)+len(train)-1\n",
        "pred=model.predict(start=start,end=end,typ='levels')\n",
        "# print(pred)\n",
        "pred.index=data.index[start:end+1]\n",
        "print(pred)"
      ],
      "metadata": {
        "colab": {
          "base_uri": "https://localhost:8080/"
        },
        "id": "caOjCeEMe2Qn",
        "outputId": "a7c22bf8-8e88-427b-a94e-73ce1c6596ad"
      },
      "execution_count": 28,
      "outputs": [
        {
          "output_type": "stream",
          "name": "stdout",
          "text": [
            "Date\n",
            "2020-01-06    1548.727234\n",
            "2020-01-07    1572.992086\n",
            "2020-01-08    1567.556923\n",
            "2020-01-09    1572.276355\n",
            "2020-01-10    1551.119815\n",
            "2020-01-13    1553.418073\n",
            "2020-01-14    1549.699065\n",
            "2020-01-15    1545.570784\n",
            "2020-01-16    1548.883515\n",
            "2020-01-17    1554.013134\n",
            "2020-01-20    1557.904584\n",
            "2020-01-21    1560.323897\n",
            "2020-01-22    1551.020092\n",
            "2020-01-23    1557.002252\n",
            "2020-01-24    1562.859347\n",
            "2020-01-27    1564.086789\n",
            "2020-01-28    1579.952124\n",
            "2020-01-29    1574.096853\n",
            "2020-01-30    1573.652293\n",
            "2020-01-31    1577.941606\n",
            "2020-02-03    1584.015122\n",
            "2020-02-04    1575.221395\n",
            "2020-02-05    1558.701039\n",
            "2020-02-06    1553.053089\n",
            "2020-02-07    1563.056505\n",
            "2020-02-10    1572.663258\n",
            "2020-02-11    1573.216170\n",
            "2020-02-12    1570.517519\n",
            "2020-02-13    1563.857774\n",
            "2020-02-14    1574.844632\n",
            "2020-02-17    1581.046338\n",
            "2020-02-18    1581.114656\n",
            "2020-02-19    1589.797478\n",
            "2020-02-20    1603.490457\n",
            "2020-02-21    1618.962190\n",
            "2020-02-24    1643.213806\n",
            "2020-02-25    1670.712372\n",
            "2020-02-26    1650.861751\n",
            "2020-02-27    1636.099353\n",
            "2020-02-28    1650.644458\n",
            "2020-03-02    1610.143154\n",
            "2020-03-03    1601.734243\n",
            "2020-03-04    1613.704672\n",
            "2020-03-05    1640.343602\n",
            "2020-03-06    1661.409337\n",
            "2020-03-09    1682.975804\n",
            "2020-03-10    1671.032982\n",
            "2020-03-11    1657.868899\n",
            "2020-03-12    1653.985403\n",
            "2020-03-13    1570.181113\n",
            "Name: predicted_mean, dtype: float64\n"
          ]
        }
      ]
    },
    {
      "cell_type": "code",
      "source": [
        "pred.plot(legend=True)\n",
        "test['Value'].plot(legend=True)"
      ],
      "metadata": {
        "colab": {
          "base_uri": "https://localhost:8080/",
          "height": 515
        },
        "id": "W3mCpTg9fI_6",
        "outputId": "8a8aaf1e-1187-49f6-a2de-bb224e6d70ff"
      },
      "execution_count": 30,
      "outputs": [
        {
          "output_type": "execute_result",
          "data": {
            "text/plain": [
              "<Axes: xlabel='Date'>"
            ]
          },
          "metadata": {},
          "execution_count": 30
        },
        {
          "output_type": "display_data",
          "data": {
            "text/plain": [
              "<Figure size 640x480 with 1 Axes>"
            ],
            "image/png": "[encoded data removed]"
          },
          "metadata": {}
        }
      ]
    },
    {
      "cell_type": "code",
      "source": [
        "test['Value'].mean()"
      ],
      "metadata": {
        "colab": {
          "base_uri": "https://localhost:8080/"
        },
        "id": "ksnSvvdxfNzl",
        "outputId": "050a5f64-b506-466c-9ae0-d275d5d4eea1"
      },
      "execution_count": 32,
      "outputs": [
        {
          "output_type": "execute_result",
          "data": {
            "text/plain": [
              "1590.3339999999998"
            ]
          },
          "metadata": {},
          "execution_count": 32
        }
      ]
    },
    {
      "cell_type": "code",
      "source": [
        "from sklearn.metrics import mean_squared_error\n",
        "from math import sqrt\n",
        "rmse=sqrt(mean_squared_error(pred,test['Value']))\n",
        "print(rmse)"
      ],
      "metadata": {
        "colab": {
          "base_uri": "https://localhost:8080/"
        },
        "id": "4HgWaTRWfV8q",
        "outputId": "862423c5-5588-4ac4-8a12-90d145c50c3e"
      },
      "execution_count": 34,
      "outputs": [
        {
          "output_type": "stream",
          "name": "stdout",
          "text": [
            "18.08471319918281\n"
          ]
        }
      ]
    },
    {
      "cell_type": "code",
      "source": [
        "model2=ARIMA(data[\"Value\"],order=(2,1,2))\n",
        "model2=model2.fit()\n",
        "model2.summary()"
      ],
      "metadata": {
        "colab": {
          "base_uri": "https://localhost:8080/",
          "height": 462
        },
        "id": "31LXZ8qDfcxL",
        "outputId": "b95e3696-fe9c-4599-ab54-91b8a44cae50"
      },
      "execution_count": 35,
      "outputs": [
        {
          "output_type": "execute_result",
          "data": {
            "text/plain": [
              "<class 'statsmodels.iolib.summary.Summary'>\n",
              "\"\"\"\n",
              "                               SARIMAX Results                                \n",
              "==============================================================================\n",
              "Dep. Variable:                  Value   No. Observations:                10787\n",
              "Model:                 ARIMA(2, 1, 2)   Log Likelihood              -39019.571\n",
              "Date:                Sun, 24 Sep 2023   AIC                          78049.141\n",
              "Time:                        18:41:10   BIC                          78085.571\n",
              "Sample:                             0   HQIC                         78061.426\n",
              "                              - 10787                                         \n",
              "Covariance Type:                  opg                                         \n",
              "==============================================================================\n",
              "                 coef    std err          z      P>|z|      [0.025      0.975]\n",
              "------------------------------------------------------------------------------\n",
              "ar.L1         -0.7038      0.011    -65.257      0.000      -0.725      -0.683\n",
              "ar.L2         -0.9375      0.010    -93.264      0.000      -0.957      -0.918\n",
              "ma.L1          0.6847      0.012     55.852      0.000       0.661       0.709\n",
              "ma.L2          0.9174      0.012     79.170      0.000       0.895       0.940\n",
              "sigma2        81.2352      0.325    249.806      0.000      80.598      81.873\n",
              "===================================================================================\n",
              "Ljung-Box (L1) (Q):                   0.81   Jarque-Bera (JB):            210438.75\n",
              "Prob(Q):                              0.37   Prob(JB):                         0.00\n",
              "Heteroskedasticity (H):               3.12   Skew:                            -0.68\n",
              "Prob(H) (two-sided):                  0.00   Kurtosis:                        24.60\n",
              "===================================================================================\n",
              "\n",
              "Warnings:\n",
              "[1] Covariance matrix calculated using the outer product of gradients (complex-step).\n",
              "\"\"\""
            ],
            "text/html": [
              "<table class=\"simpletable\">\n",
              "<caption>SARIMAX Results</caption>\n",
              "<tr>\n",
              "  <th>Dep. Variable:</th>         <td>Value</td>      <th>  No. Observations:  </th>    <td>10787</td>  \n",
              "</tr>\n",
              "<tr>\n",
              "  <th>Model:</th>            <td>ARIMA(2, 1, 2)</td>  <th>  Log Likelihood     </th> <td>-39019.571</td>\n",
              "</tr>\n",
              "<tr>\n",
              "  <th>Date:</th>            <td>Sun, 24 Sep 2023</td> <th>  AIC                </th>  <td>78049.141</td>\n",
              "</tr>\n",
              "<tr>\n",
              "  <th>Time:</th>                <td>18:41:10</td>     <th>  BIC                </th>  <td>78085.571</td>\n",
              "</tr>\n",
              "<tr>\n",
              "  <th>Sample:</th>                  <td>0</td>        <th>  HQIC               </th>  <td>78061.426</td>\n",
              "</tr>\n",
              "<tr>\n",
              "  <th></th>                     <td> - 10787</td>     <th>                     </th>      <td> </td>    \n",
              "</tr>\n",
              "<tr>\n",
              "  <th>Covariance Type:</th>        <td>opg</td>       <th>                     </th>      <td> </td>    \n",
              "</tr>\n",
              "</table>\n",
              "<table class=\"simpletable\">\n",
              "<tr>\n",
              "     <td></td>       <th>coef</th>     <th>std err</th>      <th>z</th>      <th>P>|z|</th>  <th>[0.025</th>    <th>0.975]</th>  \n",
              "</tr>\n",
              "<tr>\n",
              "  <th>ar.L1</th>  <td>   -0.7038</td> <td>    0.011</td> <td>  -65.257</td> <td> 0.000</td> <td>   -0.725</td> <td>   -0.683</td>\n",
              "</tr>\n",
              "<tr>\n",
              "  <th>ar.L2</th>  <td>   -0.9375</td> <td>    0.010</td> <td>  -93.264</td> <td> 0.000</td> <td>   -0.957</td> <td>   -0.918</td>\n",
              "</tr>\n",
              "<tr>\n",
              "  <th>ma.L1</th>  <td>    0.6847</td> <td>    0.012</td> <td>   55.852</td> <td> 0.000</td> <td>    0.661</td> <td>    0.709</td>\n",
              "</tr>\n",
              "<tr>\n",
              "  <th>ma.L2</th>  <td>    0.9174</td> <td>    0.012</td> <td>   79.170</td> <td> 0.000</td> <td>    0.895</td> <td>    0.940</td>\n",
              "</tr>\n",
              "<tr>\n",
              "  <th>sigma2</th> <td>   81.2352</td> <td>    0.325</td> <td>  249.806</td> <td> 0.000</td> <td>   80.598</td> <td>   81.873</td>\n",
              "</tr>\n",
              "</table>\n",
              "<table class=\"simpletable\">\n",
              "<tr>\n",
              "  <th>Ljung-Box (L1) (Q):</th>     <td>0.81</td> <th>  Jarque-Bera (JB):  </th> <td>210438.75</td>\n",
              "</tr>\n",
              "<tr>\n",
              "  <th>Prob(Q):</th>                <td>0.37</td> <th>  Prob(JB):          </th>   <td>0.00</td>   \n",
              "</tr>\n",
              "<tr>\n",
              "  <th>Heteroskedasticity (H):</th> <td>3.12</td> <th>  Skew:              </th>   <td>-0.68</td>  \n",
              "</tr>\n",
              "<tr>\n",
              "  <th>Prob(H) (two-sided):</th>    <td>0.00</td> <th>  Kurtosis:          </th>   <td>24.60</td>  \n",
              "</tr>\n",
              "</table><br/><br/>Warnings:<br/>[1] Covariance matrix calculated using the outer product of gradients (complex-step)."
            ],
            "text/latex": "\\begin{center}\n\\begin{tabular}{lclc}\n\\toprule\n\\textbf{Dep. Variable:}          &      Value       & \\textbf{  No. Observations:  } &   10787     \\\\\n\\textbf{Model:}                  &  ARIMA(2, 1, 2)  & \\textbf{  Log Likelihood     } & -39019.571  \\\\\n\\textbf{Date:}                   & Sun, 24 Sep 2023 & \\textbf{  AIC                } & 78049.141   \\\\\n\\textbf{Time:}                   &     18:41:10     & \\textbf{  BIC                } & 78085.571   \\\\\n\\textbf{Sample:}                 &        0         & \\textbf{  HQIC               } & 78061.426   \\\\\n\\textbf{}                        &      - 10787     & \\textbf{                     } &             \\\\\n\\textbf{Covariance Type:}        &       opg        & \\textbf{                     } &             \\\\\n\\bottomrule\n\\end{tabular}\n\\begin{tabular}{lcccccc}\n                & \\textbf{coef} & \\textbf{std err} & \\textbf{z} & \\textbf{P$> |$z$|$} & \\textbf{[0.025} & \\textbf{0.975]}  \\\\\n\\midrule\n\\textbf{ar.L1}  &      -0.7038  &        0.011     &   -65.257  &         0.000        &       -0.725    &       -0.683     \\\\\n\\textbf{ar.L2}  &      -0.9375  &        0.010     &   -93.264  &         0.000        &       -0.957    &       -0.918     \\\\\n\\textbf{ma.L1}  &       0.6847  &        0.012     &    55.852  &         0.000        &        0.661    &        0.709     \\\\\n\\textbf{ma.L2}  &       0.9174  &        0.012     &    79.170  &         0.000        &        0.895    &        0.940     \\\\\n\\textbf{sigma2} &      81.2352  &        0.325     &   249.806  &         0.000        &       80.598    &       81.873     \\\\\n\\bottomrule\n\\end{tabular}\n\\begin{tabular}{lclc}\n\\textbf{Ljung-Box (L1) (Q):}     & 0.81 & \\textbf{  Jarque-Bera (JB):  } & 210438.75  \\\\\n\\textbf{Prob(Q):}                & 0.37 & \\textbf{  Prob(JB):          } &    0.00    \\\\\n\\textbf{Heteroskedasticity (H):} & 3.12 & \\textbf{  Skew:              } &   -0.68    \\\\\n\\textbf{Prob(H) (two-sided):}    & 0.00 & \\textbf{  Kurtosis:          } &   24.60    \\\\\n\\bottomrule\n\\end{tabular}\n%\\caption{SARIMAX Results}\n\\end{center}\n\nWarnings: \\newline\n [1] Covariance matrix calculated using the outer product of gradients (complex-step)."
          },
          "metadata": {},
          "execution_count": 35
        }
      ]
    },
    {
      "cell_type": "code",
      "source": [
        "#predict future data\n",
        "index_date_range=pd.date_range(start='2023-01-01',end='2023-01-31')\n",
        "pred=model2.predict(start=len(data),end=len(data)+30,typ='levels').rename(\"ARIMA Predictions\")\n",
        "pred.index=index_date_range\n",
        "print(pred)"
      ],
      "metadata": {
        "colab": {
          "base_uri": "https://localhost:8080/"
        },
        "id": "LtEWWAtNfpjB",
        "outputId": "0739c25f-cb5d-49ca-c6ae-5abc462cb91c"
      },
      "execution_count": 37,
      "outputs": [
        {
          "output_type": "stream",
          "name": "stdout",
          "text": [
            "2023-01-01    1564.757110\n",
            "2023-01-02    1564.014158\n",
            "2023-01-03    1562.702287\n",
            "2023-01-04    1564.322160\n",
            "2023-01-05    1564.411901\n",
            "2023-01-06    1562.830104\n",
            "2023-01-07    1563.859311\n",
            "2023-01-08    1564.617847\n",
            "2023-01-09    1563.119072\n",
            "2023-01-10    1563.462849\n",
            "2023-01-11    1564.625987\n",
            "2023-01-12    1563.485027\n",
            "2023-01-13    1563.197642\n",
            "2023-01-14    1564.469568\n",
            "2023-01-15    1563.843753\n",
            "2023-01-16    1563.091797\n",
            "2023-01-17    1564.207760\n",
            "2023-01-18    1564.127255\n",
            "2023-01-19    1563.137701\n",
            "2023-01-20    1563.909667\n",
            "2023-01-21    1564.294031\n",
            "2023-01-22    1563.299779\n",
            "2023-01-23    1563.639236\n",
            "2023-01-24    1564.332424\n",
            "2023-01-25    1563.526286\n",
            "2023-01-26    1563.443817\n",
            "2023-01-27    1564.257618\n",
            "2023-01-28    1563.762143\n",
            "2023-01-29    1563.347941\n",
            "2023-01-30    1564.103984\n",
            "2023-01-31    1563.960162\n",
            "Freq: D, Name: ARIMA Predictions, dtype: float64\n"
          ]
        }
      ]
    },
    {
      "cell_type": "code",
      "source": [],
      "metadata": {
        "id": "RuJJ-xAMgsAK"
      },
      "execution_count": null,
      "outputs": []
    }
  ]
}